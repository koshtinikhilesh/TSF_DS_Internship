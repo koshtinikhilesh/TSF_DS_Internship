{
  "nbformat": 4,
  "nbformat_minor": 0,
  "metadata": {
    "colab": {
      "name": "TSF-DS-Task1",
      "provenance": [],
      "collapsed_sections": []
    },
    "kernelspec": {
      "name": "python3",
      "display_name": "Python 3"
    }
  },
  "cells": [
    {
      "cell_type": "markdown",
      "metadata": {
        "id": "Tre_L46V9O4J"
      },
      "source": [
        "### **Graduate Rotational Internship Program**\n",
        "\n",
        "#### By The Sparks Foundation\n",
        "<p>\n",
        "<br>\n",
        "<br>\n",
        "\n",
        "\n",
        "\n",
        "\n",
        "## Task 1:  Prediction using Supervised ML\n",
        "\n",
        "(presented by Nikhilesh Koshti)\n",
        "\n",
        "\n",
        "\n",
        "<br>\n",
        "Goal:-   Predict the percentage of the marks of the students based on the study of hours\n"
      ]
    },
    {
      "cell_type": "markdown",
      "metadata": {
        "id": "rDqoUaCa9OyX"
      },
      "source": [
        "<h2>   \n",
        "      <span>          \n",
        "           Contents\n",
        "    </span>\n",
        "       \n",
        "</h2>\n",
        "<span>\n",
        "    <ul>\n",
        "        <li><a href='#intro'>1. Introduction/Goal</a></li>\n",
        "        <ul>\n",
        "            <li><a href='#data'>1.1 Dataset information</a></li>\n",
        "        </ul>\n",
        "        <li><a href='#libraries'>2. Python Libraries</a></li>\n",
        "        <ul>\n",
        "            <li><a href='#python'>2.1 Import Python Libraries</a></li>\n",
        "         </ul>\n",
        "        <li><a href='#understand'>3. Understanding the data</a></li>\n",
        "        <ul>\n",
        "            <li><a href='#import'>3.1 Importing/Decoding the input csv</a></li>\n",
        "        </ul>\n",
        "              <li><a href='#eda'>4. Model Training\t</a></li>\n",
        "        <ul>\n",
        "            <li><a href='#survival'>4.1 Model Setup</a></li>\n",
        "            <li><a href='#gender'>4.2 Training</a></li>\n",
        "        </ul>\n",
        "              <li><a href='#eda'>5. Observations </a></li>\n",
        "        <ul>\n",
        "            <li><a href='#logistic'>5.1 Accuracy Check</a></li>\n",
        "            <li><a href='#random'>5.2 Predictions</a></li>\n"
      ]
    },
    {
      "cell_type": "markdown",
      "metadata": {
        "id": "BQIPf2oo9Otd"
      },
      "source": [
        "<a id=\"#intro\"></a>\n",
        "<h3>   \n",
        "    <font  color='orange'>\n",
        "          <span>\n",
        "           1. Introduction\n",
        "            </span>   \n",
        "    </font>\n",
        "</h3>"
      ]
    },
    {
      "cell_type": "markdown",
      "metadata": {
        "id": "e-8FzMJY9Onv"
      },
      "source": [
        "<a id=\"intro\"></a>\n",
        "<h5>   \n",
        "    <font  color='red'>\n",
        "          <span>\n",
        "           1.1 Dataset Information\n",
        "            </span>   \n",
        "    </font>\n",
        "</h5>"
      ]
    },
    {
      "cell_type": "markdown",
      "metadata": {
        "id": "50wkMnOj9OhL"
      },
      "source": [
        "Goal:-   Predict score based on study hours"
      ]
    },
    {
      "cell_type": "markdown",
      "metadata": {
        "id": "x6HwrXE89Oac"
      },
      "source": [
        "We have datasets containing the study of hours  and score achieved. So, we need to find the relationship between these 2 features and predict the score afterwards."
      ]
    },
    {
      "cell_type": "markdown",
      "metadata": {
        "id": "RNTN4MYcKE_z"
      },
      "source": [
        "<a id=\"#intro\"></a>\n",
        "<h3>   \n",
        "    <font  color='orange'>\n",
        "          <span>\n",
        "           2. Python Libraries\n",
        "            </span>   \n",
        "    </font>\n",
        "</h3>"
      ]
    },
    {
      "cell_type": "markdown",
      "metadata": {
        "id": "-IMIeJJMKFH-"
      },
      "source": [
        "<a id=\"intro\"></a>\n",
        "<h5>   \n",
        "    <font  color='red'>\n",
        "          <span>\n",
        "           2.1 Import Python Libraries\n",
        "            </span>   \n",
        "    </font>\n",
        "</h5>"
      ]
    },
    {
      "cell_type": "markdown",
      "metadata": {
        "id": "PLXxo7d9KE5H"
      },
      "source": [
        "For finding relationship between available data, we will use python modules, numpy and pandas for calculation"
      ]
    },
    {
      "cell_type": "code",
      "metadata": {
        "id": "kytluFOnZ00t"
      },
      "source": [
        "# Python Libraries required for Data Analysis\n",
        "\n",
        "import pandas as pd\n",
        "import numpy as np\n",
        "import matplotlib.pyplot as plt\n"
      ],
      "execution_count": 1,
      "outputs": []
    },
    {
      "cell_type": "markdown",
      "metadata": {
        "id": "JmRk0-kGKjFy"
      },
      "source": [
        "<a id=\"#intro\"></a>\n",
        "<h3>   \n",
        "    <font  color='orange'>\n",
        "          <span>\n",
        "           3. Understanding the Data\n",
        "            </span>   \n",
        "    </font>\n",
        "</h3>"
      ]
    },
    {
      "cell_type": "markdown",
      "metadata": {
        "id": "Y-BxYrYoKi_1"
      },
      "source": [
        "<a id=\"intro\"></a>\n",
        "<h5>   \n",
        "    <font  color='red'>\n",
        "          <span>\n",
        "           3.1 Importing/Decoding input csv file\n",
        "            </span>   \n",
        "    </font>\n",
        "</h5>"
      ]
    },
    {
      "cell_type": "code",
      "metadata": {
        "id": "JV2Z6iqSZ6G8"
      },
      "source": [
        "# Reading and Understanding the dataset\n",
        "\n",
        "data = pd.read_csv('https://raw.githubusercontent.com/AdiPersonalWorks/Random/master/student_scores%20-%20student_scores.csv')"
      ],
      "execution_count": 2,
      "outputs": []
    },
    {
      "cell_type": "code",
      "metadata": {
        "id": "vsz9O9xZZ_Ew",
        "outputId": "533c46c2-0bf2-4e1b-ac29-8ff71b400d5a",
        "colab": {
          "base_uri": "https://localhost:8080/",
          "height": 359
        }
      },
      "source": [
        "data.head(10)"
      ],
      "execution_count": 3,
      "outputs": [
        {
          "output_type": "execute_result",
          "data": {
            "text/html": [
              "<div>\n",
              "<style scoped>\n",
              "    .dataframe tbody tr th:only-of-type {\n",
              "        vertical-align: middle;\n",
              "    }\n",
              "\n",
              "    .dataframe tbody tr th {\n",
              "        vertical-align: top;\n",
              "    }\n",
              "\n",
              "    .dataframe thead th {\n",
              "        text-align: right;\n",
              "    }\n",
              "</style>\n",
              "<table border=\"1\" class=\"dataframe\">\n",
              "  <thead>\n",
              "    <tr style=\"text-align: right;\">\n",
              "      <th></th>\n",
              "      <th>Hours</th>\n",
              "      <th>Scores</th>\n",
              "    </tr>\n",
              "  </thead>\n",
              "  <tbody>\n",
              "    <tr>\n",
              "      <th>0</th>\n",
              "      <td>2.5</td>\n",
              "      <td>21</td>\n",
              "    </tr>\n",
              "    <tr>\n",
              "      <th>1</th>\n",
              "      <td>5.1</td>\n",
              "      <td>47</td>\n",
              "    </tr>\n",
              "    <tr>\n",
              "      <th>2</th>\n",
              "      <td>3.2</td>\n",
              "      <td>27</td>\n",
              "    </tr>\n",
              "    <tr>\n",
              "      <th>3</th>\n",
              "      <td>8.5</td>\n",
              "      <td>75</td>\n",
              "    </tr>\n",
              "    <tr>\n",
              "      <th>4</th>\n",
              "      <td>3.5</td>\n",
              "      <td>30</td>\n",
              "    </tr>\n",
              "    <tr>\n",
              "      <th>5</th>\n",
              "      <td>1.5</td>\n",
              "      <td>20</td>\n",
              "    </tr>\n",
              "    <tr>\n",
              "      <th>6</th>\n",
              "      <td>9.2</td>\n",
              "      <td>88</td>\n",
              "    </tr>\n",
              "    <tr>\n",
              "      <th>7</th>\n",
              "      <td>5.5</td>\n",
              "      <td>60</td>\n",
              "    </tr>\n",
              "    <tr>\n",
              "      <th>8</th>\n",
              "      <td>8.3</td>\n",
              "      <td>81</td>\n",
              "    </tr>\n",
              "    <tr>\n",
              "      <th>9</th>\n",
              "      <td>2.7</td>\n",
              "      <td>25</td>\n",
              "    </tr>\n",
              "  </tbody>\n",
              "</table>\n",
              "</div>"
            ],
            "text/plain": [
              "   Hours  Scores\n",
              "0    2.5      21\n",
              "1    5.1      47\n",
              "2    3.2      27\n",
              "3    8.5      75\n",
              "4    3.5      30\n",
              "5    1.5      20\n",
              "6    9.2      88\n",
              "7    5.5      60\n",
              "8    8.3      81\n",
              "9    2.7      25"
            ]
          },
          "metadata": {
            "tags": []
          },
          "execution_count": 3
        }
      ]
    },
    {
      "cell_type": "code",
      "metadata": {
        "id": "N9XPjRwDQuex",
        "outputId": "5aa86d05-8f64-4ae9-c2d5-a81491f338a3",
        "colab": {
          "base_uri": "https://localhost:8080/",
          "height": 68
        }
      },
      "source": [
        "data.isnull().any()"
      ],
      "execution_count": 4,
      "outputs": [
        {
          "output_type": "execute_result",
          "data": {
            "text/plain": [
              "Hours     False\n",
              "Scores    False\n",
              "dtype: bool"
            ]
          },
          "metadata": {
            "tags": []
          },
          "execution_count": 4
        }
      ]
    },
    {
      "cell_type": "markdown",
      "metadata": {
        "id": "0dHtXW3jQxVq"
      },
      "source": [
        "Observation:   There are no null values present in the current datasets. Hence we are good to go for our analysis."
      ]
    },
    {
      "cell_type": "code",
      "metadata": {
        "id": "OTeLeCDmaASW",
        "outputId": "65411fa4-17f2-424b-b5be-4fb406532151",
        "colab": {
          "base_uri": "https://localhost:8080/",
          "height": 170
        }
      },
      "source": [
        "data.info()"
      ],
      "execution_count": 5,
      "outputs": [
        {
          "output_type": "stream",
          "text": [
            "<class 'pandas.core.frame.DataFrame'>\n",
            "RangeIndex: 25 entries, 0 to 24\n",
            "Data columns (total 2 columns):\n",
            " #   Column  Non-Null Count  Dtype  \n",
            "---  ------  --------------  -----  \n",
            " 0   Hours   25 non-null     float64\n",
            " 1   Scores  25 non-null     int64  \n",
            "dtypes: float64(1), int64(1)\n",
            "memory usage: 528.0 bytes\n"
          ],
          "name": "stdout"
        }
      ]
    },
    {
      "cell_type": "code",
      "metadata": {
        "id": "12SYEOO-QdPE",
        "outputId": "8d02268f-8b7d-4267-cc48-9d40950b43c7",
        "colab": {
          "base_uri": "https://localhost:8080/",
          "height": 824
        }
      },
      "source": [
        "data"
      ],
      "execution_count": 6,
      "outputs": [
        {
          "output_type": "execute_result",
          "data": {
            "text/html": [
              "<div>\n",
              "<style scoped>\n",
              "    .dataframe tbody tr th:only-of-type {\n",
              "        vertical-align: middle;\n",
              "    }\n",
              "\n",
              "    .dataframe tbody tr th {\n",
              "        vertical-align: top;\n",
              "    }\n",
              "\n",
              "    .dataframe thead th {\n",
              "        text-align: right;\n",
              "    }\n",
              "</style>\n",
              "<table border=\"1\" class=\"dataframe\">\n",
              "  <thead>\n",
              "    <tr style=\"text-align: right;\">\n",
              "      <th></th>\n",
              "      <th>Hours</th>\n",
              "      <th>Scores</th>\n",
              "    </tr>\n",
              "  </thead>\n",
              "  <tbody>\n",
              "    <tr>\n",
              "      <th>0</th>\n",
              "      <td>2.5</td>\n",
              "      <td>21</td>\n",
              "    </tr>\n",
              "    <tr>\n",
              "      <th>1</th>\n",
              "      <td>5.1</td>\n",
              "      <td>47</td>\n",
              "    </tr>\n",
              "    <tr>\n",
              "      <th>2</th>\n",
              "      <td>3.2</td>\n",
              "      <td>27</td>\n",
              "    </tr>\n",
              "    <tr>\n",
              "      <th>3</th>\n",
              "      <td>8.5</td>\n",
              "      <td>75</td>\n",
              "    </tr>\n",
              "    <tr>\n",
              "      <th>4</th>\n",
              "      <td>3.5</td>\n",
              "      <td>30</td>\n",
              "    </tr>\n",
              "    <tr>\n",
              "      <th>5</th>\n",
              "      <td>1.5</td>\n",
              "      <td>20</td>\n",
              "    </tr>\n",
              "    <tr>\n",
              "      <th>6</th>\n",
              "      <td>9.2</td>\n",
              "      <td>88</td>\n",
              "    </tr>\n",
              "    <tr>\n",
              "      <th>7</th>\n",
              "      <td>5.5</td>\n",
              "      <td>60</td>\n",
              "    </tr>\n",
              "    <tr>\n",
              "      <th>8</th>\n",
              "      <td>8.3</td>\n",
              "      <td>81</td>\n",
              "    </tr>\n",
              "    <tr>\n",
              "      <th>9</th>\n",
              "      <td>2.7</td>\n",
              "      <td>25</td>\n",
              "    </tr>\n",
              "    <tr>\n",
              "      <th>10</th>\n",
              "      <td>7.7</td>\n",
              "      <td>85</td>\n",
              "    </tr>\n",
              "    <tr>\n",
              "      <th>11</th>\n",
              "      <td>5.9</td>\n",
              "      <td>62</td>\n",
              "    </tr>\n",
              "    <tr>\n",
              "      <th>12</th>\n",
              "      <td>4.5</td>\n",
              "      <td>41</td>\n",
              "    </tr>\n",
              "    <tr>\n",
              "      <th>13</th>\n",
              "      <td>3.3</td>\n",
              "      <td>42</td>\n",
              "    </tr>\n",
              "    <tr>\n",
              "      <th>14</th>\n",
              "      <td>1.1</td>\n",
              "      <td>17</td>\n",
              "    </tr>\n",
              "    <tr>\n",
              "      <th>15</th>\n",
              "      <td>8.9</td>\n",
              "      <td>95</td>\n",
              "    </tr>\n",
              "    <tr>\n",
              "      <th>16</th>\n",
              "      <td>2.5</td>\n",
              "      <td>30</td>\n",
              "    </tr>\n",
              "    <tr>\n",
              "      <th>17</th>\n",
              "      <td>1.9</td>\n",
              "      <td>24</td>\n",
              "    </tr>\n",
              "    <tr>\n",
              "      <th>18</th>\n",
              "      <td>6.1</td>\n",
              "      <td>67</td>\n",
              "    </tr>\n",
              "    <tr>\n",
              "      <th>19</th>\n",
              "      <td>7.4</td>\n",
              "      <td>69</td>\n",
              "    </tr>\n",
              "    <tr>\n",
              "      <th>20</th>\n",
              "      <td>2.7</td>\n",
              "      <td>30</td>\n",
              "    </tr>\n",
              "    <tr>\n",
              "      <th>21</th>\n",
              "      <td>4.8</td>\n",
              "      <td>54</td>\n",
              "    </tr>\n",
              "    <tr>\n",
              "      <th>22</th>\n",
              "      <td>3.8</td>\n",
              "      <td>35</td>\n",
              "    </tr>\n",
              "    <tr>\n",
              "      <th>23</th>\n",
              "      <td>6.9</td>\n",
              "      <td>76</td>\n",
              "    </tr>\n",
              "    <tr>\n",
              "      <th>24</th>\n",
              "      <td>7.8</td>\n",
              "      <td>86</td>\n",
              "    </tr>\n",
              "  </tbody>\n",
              "</table>\n",
              "</div>"
            ],
            "text/plain": [
              "    Hours  Scores\n",
              "0     2.5      21\n",
              "1     5.1      47\n",
              "2     3.2      27\n",
              "3     8.5      75\n",
              "4     3.5      30\n",
              "5     1.5      20\n",
              "6     9.2      88\n",
              "7     5.5      60\n",
              "8     8.3      81\n",
              "9     2.7      25\n",
              "10    7.7      85\n",
              "11    5.9      62\n",
              "12    4.5      41\n",
              "13    3.3      42\n",
              "14    1.1      17\n",
              "15    8.9      95\n",
              "16    2.5      30\n",
              "17    1.9      24\n",
              "18    6.1      67\n",
              "19    7.4      69\n",
              "20    2.7      30\n",
              "21    4.8      54\n",
              "22    3.8      35\n",
              "23    6.9      76\n",
              "24    7.8      86"
            ]
          },
          "metadata": {
            "tags": []
          },
          "execution_count": 6
        }
      ]
    },
    {
      "cell_type": "code",
      "metadata": {
        "id": "KXFJlUQeaCYX",
        "outputId": "ef1924f4-95de-47d7-e6d4-bdca377bb531",
        "colab": {
          "base_uri": "https://localhost:8080/",
          "height": 34
        }
      },
      "source": [
        "data.shape\n"
      ],
      "execution_count": 7,
      "outputs": [
        {
          "output_type": "execute_result",
          "data": {
            "text/plain": [
              "(25, 2)"
            ]
          },
          "metadata": {
            "tags": []
          },
          "execution_count": 7
        }
      ]
    },
    {
      "cell_type": "code",
      "metadata": {
        "id": "x_O2KCWbaEf4"
      },
      "source": [
        "# there are 25 rows with 2 column. Let plot the values"
      ],
      "execution_count": 8,
      "outputs": []
    },
    {
      "cell_type": "code",
      "metadata": {
        "id": "DdtGJBr7aIXm",
        "outputId": "6abf8e00-3a6d-4051-ad3f-e492b5e5e04a",
        "colab": {
          "base_uri": "https://localhost:8080/",
          "height": 312
        }
      },
      "source": [
        "data.plot(x='Hours', y='Scores', style='o')\n",
        "plt.title(\"Hours vs Scores\")\n",
        "plt.xlabel(\"Hours\")\n",
        "plt.ylabel(\"Scores\")"
      ],
      "execution_count": 9,
      "outputs": [
        {
          "output_type": "execute_result",
          "data": {
            "text/plain": [
              "Text(0, 0.5, 'Scores')"
            ]
          },
          "metadata": {
            "tags": []
          },
          "execution_count": 9
        },
        {
          "output_type": "display_data",
          "data": {
            "image/png": "[encoded data removed]",
            "text/plain": [
              "<Figure size 432x288 with 1 Axes>"
            ]
          },
          "metadata": {
            "tags": [],
            "needs_background": "light"
          }
        }
      ]
    },
    {
      "cell_type": "markdown",
      "metadata": {
        "id": "PJE7YiUILJJC"
      },
      "source": [
        "Observation:  \n",
        "\n",
        "We can see that the data follows the linear pattern. Hence we will use LinearRegression to find its relationship"
      ]
    },
    {
      "cell_type": "markdown",
      "metadata": {
        "id": "FFdMombKMC6Q"
      },
      "source": [
        "\n",
        "\n",
        "```\n",
        "LInear Equation:   \n",
        "\n",
        "y = b0 + b1*x\n",
        "\n",
        "where y = dependent variable\n",
        "x = independent variable\n",
        "b0 = intercept \n",
        "b1 = scope\n",
        "```\n",
        "\n"
      ]
    },
    {
      "cell_type": "markdown",
      "metadata": {
        "id": "5-1BJhzkM9eE"
      },
      "source": [
        "<a id=\"#intro\"></a>\n",
        "<h3>   \n",
        "    <font  color='orange'>\n",
        "          <span>\n",
        "           4. Model Training\n",
        "            </span>   \n",
        "    </font>\n",
        "</h3>"
      ]
    },
    {
      "cell_type": "markdown",
      "metadata": {
        "id": "zhtA6P_rNC-5"
      },
      "source": [
        "<a id=\"intro\"></a>\n",
        "<h5>   \n",
        "    <font  color='red'>\n",
        "          <span>\n",
        "           4.1 Model Setup\n",
        "            </span>   \n",
        "    </font>\n",
        "</h5>"
      ]
    },
    {
      "cell_type": "code",
      "metadata": {
        "id": "PRWLu7TOaRrd"
      },
      "source": [
        "from sklearn.linear_model import LinearRegression\n",
        "linear = LinearRegression()"
      ],
      "execution_count": 10,
      "outputs": []
    },
    {
      "cell_type": "code",
      "metadata": {
        "id": "tjxpKLhnbJdU",
        "outputId": "0d826cd4-4732-41b5-b036-75cbb8ce0b3c",
        "colab": {
          "base_uri": "https://localhost:8080/",
          "height": 34
        }
      },
      "source": [
        "linear"
      ],
      "execution_count": 11,
      "outputs": [
        {
          "output_type": "execute_result",
          "data": {
            "text/plain": [
              "LinearRegression(copy_X=True, fit_intercept=True, n_jobs=None, normalize=False)"
            ]
          },
          "metadata": {
            "tags": []
          },
          "execution_count": 11
        }
      ]
    },
    {
      "cell_type": "code",
      "metadata": {
        "id": "90w1ZHpLbJ7r"
      },
      "source": [
        "# prepare the data"
      ],
      "execution_count": 12,
      "outputs": []
    },
    {
      "cell_type": "code",
      "metadata": {
        "id": "OkLH231SeOX1"
      },
      "source": [
        "# preparing data\n",
        "X = data.iloc[:,:-1].values\n"
      ],
      "execution_count": 13,
      "outputs": []
    },
    {
      "cell_type": "code",
      "metadata": {
        "id": "NmzRDjg-ectV",
        "outputId": "4e0fe052-f638-48a3-9484-0bf8a9af095e",
        "colab": {
          "base_uri": "https://localhost:8080/",
          "height": 442
        }
      },
      "source": [
        "X"
      ],
      "execution_count": 14,
      "outputs": [
        {
          "output_type": "execute_result",
          "data": {
            "text/plain": [
              "array([[2.5],\n",
              "       [5.1],\n",
              "       [3.2],\n",
              "       [8.5],\n",
              "       [3.5],\n",
              "       [1.5],\n",
              "       [9.2],\n",
              "       [5.5],\n",
              "       [8.3],\n",
              "       [2.7],\n",
              "       [7.7],\n",
              "       [5.9],\n",
              "       [4.5],\n",
              "       [3.3],\n",
              "       [1.1],\n",
              "       [8.9],\n",
              "       [2.5],\n",
              "       [1.9],\n",
              "       [6.1],\n",
              "       [7.4],\n",
              "       [2.7],\n",
              "       [4.8],\n",
              "       [3.8],\n",
              "       [6.9],\n",
              "       [7.8]])"
            ]
          },
          "metadata": {
            "tags": []
          },
          "execution_count": 14
        }
      ]
    },
    {
      "cell_type": "code",
      "metadata": {
        "id": "Y5n_-ei0edLq",
        "outputId": "b0998258-ece9-44b2-ec50-c6c554f2b417",
        "colab": {
          "base_uri": "https://localhost:8080/",
          "height": 51
        }
      },
      "source": [
        "Y = data.iloc[:,1].values\n",
        "Y"
      ],
      "execution_count": 15,
      "outputs": [
        {
          "output_type": "execute_result",
          "data": {
            "text/plain": [
              "array([21, 47, 27, 75, 30, 20, 88, 60, 81, 25, 85, 62, 41, 42, 17, 95, 30,\n",
              "       24, 67, 69, 30, 54, 35, 76, 86])"
            ]
          },
          "metadata": {
            "tags": []
          },
          "execution_count": 15
        }
      ]
    },
    {
      "cell_type": "code",
      "metadata": {
        "id": "p_10EFRbehSV"
      },
      "source": [
        "from sklearn.model_selection import train_test_split\n",
        "xtrain,xtest,ytrain,ytest = train_test_split(X,Y,test_size=0.2, random_state=0)"
      ],
      "execution_count": 16,
      "outputs": []
    },
    {
      "cell_type": "code",
      "metadata": {
        "id": "1zKLEQzMeveJ",
        "outputId": "33249c8f-9f8b-47f5-f3ea-42217e0b97dd",
        "colab": {
          "base_uri": "https://localhost:8080/",
          "height": 34
        }
      },
      "source": [
        "linear"
      ],
      "execution_count": 17,
      "outputs": [
        {
          "output_type": "execute_result",
          "data": {
            "text/plain": [
              "LinearRegression(copy_X=True, fit_intercept=True, n_jobs=None, normalize=False)"
            ]
          },
          "metadata": {
            "tags": []
          },
          "execution_count": 17
        }
      ]
    },
    {
      "cell_type": "markdown",
      "metadata": {
        "id": "tdTaIfIANVM5"
      },
      "source": [
        "<a id=\"intro\"></a>\n",
        "<h5>   \n",
        "    <font  color='red'>\n",
        "          <span>\n",
        "           4.1 Training\n",
        "            </span>   \n",
        "    </font>\n",
        "</h5>"
      ]
    },
    {
      "cell_type": "code",
      "metadata": {
        "id": "BirRjapEeyp9",
        "outputId": "ec4ceae0-2550-4c39-f1cc-22c1df237e19",
        "colab": {
          "base_uri": "https://localhost:8080/",
          "height": 34
        }
      },
      "source": [
        "linear.fit(xtrain,ytrain)\n",
        "print(\"Training complete\")"
      ],
      "execution_count": 18,
      "outputs": [
        {
          "output_type": "stream",
          "text": [
            "Training complete\n"
          ],
          "name": "stdout"
        }
      ]
    },
    {
      "cell_type": "code",
      "metadata": {
        "id": "XWt6gLNEe1zT"
      },
      "source": [
        "line = linear.coef_ * X + linear.intercept_"
      ],
      "execution_count": 19,
      "outputs": []
    },
    {
      "cell_type": "code",
      "metadata": {
        "id": "2egBMlDne6Ej",
        "outputId": "ad5e393b-0074-465d-f9b8-b2d33498cc7e",
        "colab": {
          "base_uri": "https://localhost:8080/",
          "height": 442
        }
      },
      "source": [
        "line\n"
      ],
      "execution_count": 20,
      "outputs": [
        {
          "output_type": "execute_result",
          "data": {
            "text/plain": [
              "array([[26.79480124],\n",
              "       [52.56250809],\n",
              "       [33.73226078],\n",
              "       [86.25874013],\n",
              "       [36.70545772],\n",
              "       [16.88414476],\n",
              "       [93.19619966],\n",
              "       [56.52677068],\n",
              "       [84.27660883],\n",
              "       [28.77693254],\n",
              "       [78.33021494],\n",
              "       [60.49103328],\n",
              "       [46.6161142 ],\n",
              "       [34.72332643],\n",
              "       [12.91988217],\n",
              "       [90.22300272],\n",
              "       [26.79480124],\n",
              "       [20.84840735],\n",
              "       [62.47316457],\n",
              "       [75.357018  ],\n",
              "       [28.77693254],\n",
              "       [49.58931115],\n",
              "       [39.67865467],\n",
              "       [70.40168976],\n",
              "       [79.32128059]])"
            ]
          },
          "metadata": {
            "tags": []
          },
          "execution_count": 20
        }
      ]
    },
    {
      "cell_type": "code",
      "metadata": {
        "id": "QML_VIlAfAUu",
        "outputId": "0fe72469-7266-41c8-dfbc-1debec572b76",
        "colab": {
          "base_uri": "https://localhost:8080/",
          "height": 282
        }
      },
      "source": [
        "plt.scatter(X,Y)\n",
        "plt.plot(X, line)"
      ],
      "execution_count": 21,
      "outputs": [
        {
          "output_type": "execute_result",
          "data": {
            "text/plain": [
              "[<matplotlib.lines.Line2D at 0x7f9278592be0>]"
            ]
          },
          "metadata": {
            "tags": []
          },
          "execution_count": 21
        },
        {
          "output_type": "display_data",
          "data": {
            "image/png": "[encoded data removed]",
            "text/plain": [
              "<Figure size 432x288 with 1 Axes>"
            ]
          },
          "metadata": {
            "tags": [],
            "needs_background": "light"
          }
        }
      ]
    },
    {
      "cell_type": "markdown",
      "metadata": {
        "id": "1WOXSMmaNg82"
      },
      "source": [
        "Observations:\n",
        "\n",
        "\n",
        "\n",
        "Line shown in the figure above is the relationship between available data"
      ]
    },
    {
      "cell_type": "markdown",
      "metadata": {
        "id": "64ESgxh6NrH5"
      },
      "source": [
        "<a id=\"#intro\"></a>\n",
        "<h3>   \n",
        "    <font  color='orange'>\n",
        "          <span>\n",
        "           5. Observations\n",
        "            </span>   \n",
        "    </font>\n",
        "</h3>"
      ]
    },
    {
      "cell_type": "markdown",
      "metadata": {
        "id": "Vv3PvKTENye8"
      },
      "source": [
        "<a id=\"intro\"></a>\n",
        "<h5>   \n",
        "    <font  color='red'>\n",
        "          <span>\n",
        "           5.1 Predictions\n",
        "            </span>   \n",
        "    </font>\n",
        "</h5>"
      ]
    },
    {
      "cell_type": "code",
      "metadata": {
        "id": "UbZPf6jZfCw2"
      },
      "source": [
        "# predictions\n",
        "ypred = linear.predict(xtest)"
      ],
      "execution_count": 22,
      "outputs": []
    },
    {
      "cell_type": "code",
      "metadata": {
        "id": "CdZchyFLgBPt",
        "outputId": "394f28a6-e6d6-4a9e-ca5c-c38193b882c4",
        "colab": {
          "base_uri": "https://localhost:8080/",
          "height": 34
        }
      },
      "source": [
        "ypred"
      ],
      "execution_count": 23,
      "outputs": [
        {
          "output_type": "execute_result",
          "data": {
            "text/plain": [
              "array([16.88414476, 33.73226078, 75.357018  , 26.79480124, 60.49103328])"
            ]
          },
          "metadata": {
            "tags": []
          },
          "execution_count": 23
        }
      ]
    },
    {
      "cell_type": "code",
      "metadata": {
        "id": "jIeNs6refLst",
        "outputId": "59ae348c-d949-48ea-8439-3937fbcc48f9",
        "colab": {
          "base_uri": "https://localhost:8080/",
          "height": 51
        }
      },
      "source": [
        "ytest, ypred"
      ],
      "execution_count": 24,
      "outputs": [
        {
          "output_type": "execute_result",
          "data": {
            "text/plain": [
              "(array([20, 27, 69, 30, 62]),\n",
              " array([16.88414476, 33.73226078, 75.357018  , 26.79480124, 60.49103328]))"
            ]
          },
          "metadata": {
            "tags": []
          },
          "execution_count": 24
        }
      ]
    },
    {
      "cell_type": "code",
      "metadata": {
        "id": "x_qetBKZm4t-",
        "outputId": "ff455858-f10b-4bc5-80e9-238514a54d75",
        "colab": {
          "base_uri": "https://localhost:8080/",
          "height": 34
        }
      },
      "source": [
        "ytest.shape,ypred.shape"
      ],
      "execution_count": 26,
      "outputs": [
        {
          "output_type": "execute_result",
          "data": {
            "text/plain": [
              "((5,), (5,))"
            ]
          },
          "metadata": {
            "tags": []
          },
          "execution_count": 26
        }
      ]
    },
    {
      "cell_type": "code",
      "metadata": {
        "id": "r5Cukn7iV6wk",
        "outputId": "607798b4-fd35-43e7-f352-47f7d0c31442",
        "colab": {
          "base_uri": "https://localhost:8080/",
          "height": 298
        }
      },
      "source": [
        "plt.scatter(xtrain, ytrain, color='black')\n",
        "plt.plot(xtrain,linear.predict(xtrain))\n",
        "plt.title(\"Training Evaluation\")"
      ],
      "execution_count": 27,
      "outputs": [
        {
          "output_type": "execute_result",
          "data": {
            "text/plain": [
              "Text(0.5, 1.0, 'Training Evaluation')"
            ]
          },
          "metadata": {
            "tags": []
          },
          "execution_count": 27
        },
        {
          "output_type": "display_data",
          "data": {
            "image/png": "[encoded data removed]",
            "text/plain": [
              "<Figure size 432x288 with 1 Axes>"
            ]
          },
          "metadata": {
            "tags": [],
            "needs_background": "light"
          }
        }
      ]
    },
    {
      "cell_type": "code",
      "metadata": {
        "id": "KC1SEYxzWipy",
        "outputId": "2fa054a6-e97e-47b6-c60b-10851a3c4521",
        "colab": {
          "base_uri": "https://localhost:8080/",
          "height": 298
        }
      },
      "source": [
        "plt.scatter(xtest, ytest, color='black')\n",
        "plt.plot(xtest,linear.predict(xtest))\n",
        "plt.title(\"Testing Evaluation\")"
      ],
      "execution_count": 28,
      "outputs": [
        {
          "output_type": "execute_result",
          "data": {
            "text/plain": [
              "Text(0.5, 1.0, 'Testing Evaluation')"
            ]
          },
          "metadata": {
            "tags": []
          },
          "execution_count": 28
        },
        {
          "output_type": "display_data",
          "data": {
            "image/png": "[encoded data removed]",
            "text/plain": [
              "<Figure size 432x288 with 1 Axes>"
            ]
          },
          "metadata": {
            "tags": [],
            "needs_background": "light"
          }
        }
      ]
    },
    {
      "cell_type": "code",
      "metadata": {
        "id": "x0uyONPKprxo"
      },
      "source": [
        "x_test_update = xtest.reshape(5,)"
      ],
      "execution_count": 40,
      "outputs": []
    },
    {
      "cell_type": "code",
      "metadata": {
        "id": "0yd6c1v4f8Yc"
      },
      "source": [
        "df = pd.DataFrame({'Hours':x_test_update,'Actual':ytest,'Predicted':ypred})"
      ],
      "execution_count": 41,
      "outputs": []
    },
    {
      "cell_type": "code",
      "metadata": {
        "id": "JkuErrixg0kx",
        "outputId": "63b19274-ddff-40e4-af8c-b75729bbdf68",
        "colab": {
          "base_uri": "https://localhost:8080/",
          "height": 204
        }
      },
      "source": [
        "df"
      ],
      "execution_count": 42,
      "outputs": [
        {
          "output_type": "execute_result",
          "data": {
            "text/html": [
              "<div>\n",
              "<style scoped>\n",
              "    .dataframe tbody tr th:only-of-type {\n",
              "        vertical-align: middle;\n",
              "    }\n",
              "\n",
              "    .dataframe tbody tr th {\n",
              "        vertical-align: top;\n",
              "    }\n",
              "\n",
              "    .dataframe thead th {\n",
              "        text-align: right;\n",
              "    }\n",
              "</style>\n",
              "<table border=\"1\" class=\"dataframe\">\n",
              "  <thead>\n",
              "    <tr style=\"text-align: right;\">\n",
              "      <th></th>\n",
              "      <th>Hours</th>\n",
              "      <th>Actual</th>\n",
              "      <th>Predicted</th>\n",
              "    </tr>\n",
              "  </thead>\n",
              "  <tbody>\n",
              "    <tr>\n",
              "      <th>0</th>\n",
              "      <td>1.5</td>\n",
              "      <td>20</td>\n",
              "      <td>16.884145</td>\n",
              "    </tr>\n",
              "    <tr>\n",
              "      <th>1</th>\n",
              "      <td>3.2</td>\n",
              "      <td>27</td>\n",
              "      <td>33.732261</td>\n",
              "    </tr>\n",
              "    <tr>\n",
              "      <th>2</th>\n",
              "      <td>7.4</td>\n",
              "      <td>69</td>\n",
              "      <td>75.357018</td>\n",
              "    </tr>\n",
              "    <tr>\n",
              "      <th>3</th>\n",
              "      <td>2.5</td>\n",
              "      <td>30</td>\n",
              "      <td>26.794801</td>\n",
              "    </tr>\n",
              "    <tr>\n",
              "      <th>4</th>\n",
              "      <td>5.9</td>\n",
              "      <td>62</td>\n",
              "      <td>60.491033</td>\n",
              "    </tr>\n",
              "  </tbody>\n",
              "</table>\n",
              "</div>"
            ],
            "text/plain": [
              "   Hours  Actual  Predicted\n",
              "0    1.5      20  16.884145\n",
              "1    3.2      27  33.732261\n",
              "2    7.4      69  75.357018\n",
              "3    2.5      30  26.794801\n",
              "4    5.9      62  60.491033"
            ]
          },
          "metadata": {
            "tags": []
          },
          "execution_count": 42
        }
      ]
    },
    {
      "cell_type": "code",
      "metadata": {
        "id": "0g4glh8hg9ix",
        "outputId": "acdb2e6f-36fd-4165-9907-9f9415e1e5b6",
        "colab": {
          "base_uri": "https://localhost:8080/",
          "height": 34
        }
      },
      "source": [
        "# we want to predict for 9.25 hours\n",
        "\n",
        "linear"
      ],
      "execution_count": 43,
      "outputs": [
        {
          "output_type": "execute_result",
          "data": {
            "text/plain": [
              "LinearRegression(copy_X=True, fit_intercept=True, n_jobs=None, normalize=False)"
            ]
          },
          "metadata": {
            "tags": []
          },
          "execution_count": 43
        }
      ]
    },
    {
      "cell_type": "code",
      "metadata": {
        "id": "Vmlr_jFb6ZEg"
      },
      "source": [
        "d = np.array(9.25)"
      ],
      "execution_count": 44,
      "outputs": []
    },
    {
      "cell_type": "code",
      "metadata": {
        "id": "-_6Jxz2Fj8pu",
        "outputId": "7b54037f-deca-4d89-cbf8-84008cbb80a5",
        "colab": {
          "base_uri": "https://localhost:8080/",
          "height": 34
        }
      },
      "source": [
        "xtest\n",
        "score =linear.predict(d.reshape(-1,1))[0]\n",
        "print(score)"
      ],
      "execution_count": 45,
      "outputs": [
        {
          "output_type": "stream",
          "text": [
            "93.69173248737539\n"
          ],
          "name": "stdout"
        }
      ]
    },
    {
      "cell_type": "markdown",
      "metadata": {
        "id": "KyndPft3ONez"
      },
      "source": [
        "It means score would be 93.69 if student study for 9.25 hours."
      ]
    },
    {
      "cell_type": "markdown",
      "metadata": {
        "id": "mww1kME5Up0Z"
      },
      "source": [
        "Mean Absolute error = True value - predicted value\n",
        "\n",
        "\n",
        "FOllowing code will take the average of all the differences"
      ]
    },
    {
      "cell_type": "code",
      "metadata": {
        "id": "HR0qGTR9kLnQ"
      },
      "source": [
        "from sklearn import metrics"
      ],
      "execution_count": 46,
      "outputs": []
    },
    {
      "cell_type": "code",
      "metadata": {
        "id": "gETckbbRkucN",
        "outputId": "c2a3ef38-e8b9-41b2-832c-9b0f9ed642f0",
        "colab": {
          "base_uri": "https://localhost:8080/",
          "height": 34
        }
      },
      "source": [
        "metrics.mean_absolute_error(ytest,ypred)"
      ],
      "execution_count": 47,
      "outputs": [
        {
          "output_type": "execute_result",
          "data": {
            "text/plain": [
              "4.183859899002982"
            ]
          },
          "metadata": {
            "tags": []
          },
          "execution_count": 47
        }
      ]
    },
    {
      "cell_type": "markdown",
      "metadata": {
        "id": "0NHDynPFUekV"
      },
      "source": [
        "It means our prediction model is 4.18% different from the actual model, which is good for the first time.\n",
        "\n",
        "\n"
      ]
    },
    {
      "cell_type": "markdown",
      "metadata": {
        "id": "7qMYW6BWU0mj"
      },
      "source": [
        "One more way to evaluate model is to check for the root mean square error.\n",
        "\n",
        "\n",
        "\n",
        "RMSE - root mean square error = deviation of the predicted values from the actual values"
      ]
    },
    {
      "cell_type": "code",
      "metadata": {
        "id": "2AxnqjEUTjmt",
        "outputId": "82c50a18-6b8e-433a-bcff-d5ef56fc741e",
        "colab": {
          "base_uri": "https://localhost:8080/",
          "height": 34
        }
      },
      "source": [
        "import math\n",
        "math.sqrt(metrics.mean_squared_error(ytest,ypred))"
      ],
      "execution_count": 48,
      "outputs": [
        {
          "output_type": "execute_result",
          "data": {
            "text/plain": [
              "4.647447612100373"
            ]
          },
          "metadata": {
            "tags": []
          },
          "execution_count": 48
        }
      ]
    },
    {
      "cell_type": "markdown",
      "metadata": {
        "id": "Ui_VVhxiU-rC"
      },
      "source": [
        "## FINISH"
      ]
    },
    {
      "cell_type": "code",
      "metadata": {
        "id": "Me6nVdJ-SO2d"
      },
      "source": [
        ""
      ],
      "execution_count": 48,
      "outputs": []
    }
  ]
}
